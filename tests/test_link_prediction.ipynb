{
 "cells": [
  {
   "cell_type": "code",
   "execution_count": null,
   "metadata": {},
   "outputs": [],
   "source": [
    "import os, sys\n",
    "sys.path.append(os.path.join(os.path.dirname(__file__), '..'))\n",
    "from link_prediction.model.link_predictor import Link_Prediction_Model\n",
    "from link_prediction.my_util import my_utils\n",
    "\n",
    "import torch\n",
    "\n",
    "%matplotlib inline\n",
    "\n",
    "current_dir = os.path.dirname(os.path.abspath(__file__))"
   ]
  },
  {
   "cell_type": "code",
   "execution_count": null,
   "metadata": {},
   "outputs": [],
   "source": [
    "model = Link_Prediction_Model(dataset_name=args.dataset, val_ratio=0.05, test_ratio=0.1, data_dir=os.path.dirname(current_dir)+'/data')"
   ]
  },
  {
   "cell_type": "code",
   "execution_count": null,
   "metadata": {},
   "outputs": [],
   "source": [
    "model(\n",
    "    encode_modelname='GCNII', \n",
    "    decode_modelname='GAE',\n",
    "    activation = 'relu', \n",
    "    self_loop_mask = True,\n",
    "    num_hidden_channels = 256, \n",
    "    num_layers = 32,\n",
    "    jk_mode = 'max',\n",
    "    hidden_channels = None, \n",
    "    negative_injection=False,\n",
    "    dropout = 0.5,\n",
    "    sigmoid_bias = True,\n",
    "    negative_sampling_ratio = 1,\n",
    "    threshold = 0.5\n",
    ")\n",
    "\n",
    "optimizer = {}\n",
    "optimizer['convs'] = torch.optim.Adam(model.encode_model.convs.parameters(), weight_decay=1e-10, lr=1e-1)\n",
    "optimizer['lins'] = torch.optim.Adam(model.encode_model.lins.parameters(), weight_decay=1e-10, lr=1e-1)\n",
    "optimizer['bias'] = torch.optim.Adam(model.decode_model.bias.parameters(), weight_decay=1e-3, lr=5e-2)\n",
    "model.my_optimizer(optimizer)\n",
    "\n",
    "scheduler = {}\n",
    "scheduler['convs'] = torch.optim.lr_scheduler.StepLR(model.optimizer['convs'], step_size=2, gamma=0.5)\n",
    "scheduler['lins'] = torch.optim.lr_scheduler.StepLR(model.optimizer['lins'], step_size=2, gamma=0.5)\n",
    "scheduler['bias'] = torch.optim.lr_scheduler.ExponentialLR(model.optimizer['bias'], gamma=0.992)\n",
    "model.my_scheduler(scheduler)\n",
    "\n",
    "model.run_training(num_epochs=3000, print_log=False, save_dir=current_dir)\n",
    "model.model_evaluate(validation=True, save=True)"
   ]
  }
 ],
 "metadata": {
  "kernelspec": {
   "display_name": "Python 3",
   "language": "python",
   "name": "python3"
  },
  "language_info": {
   "codemirror_mode": {
    "name": "ipython",
    "version": 3
   },
   "file_extension": ".py",
   "mimetype": "text/x-python",
   "name": "python",
   "nbconvert_exporter": "python",
   "pygments_lexer": "ipython3",
   "version": "3.7.6"
  }
 },
 "nbformat": 4,
 "nbformat_minor": 4
}
